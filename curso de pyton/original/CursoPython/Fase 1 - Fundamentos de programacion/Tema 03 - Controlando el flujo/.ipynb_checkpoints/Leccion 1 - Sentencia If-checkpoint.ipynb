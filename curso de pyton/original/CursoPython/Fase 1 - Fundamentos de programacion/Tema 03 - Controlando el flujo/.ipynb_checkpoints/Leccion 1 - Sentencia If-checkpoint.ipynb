{
 "cells": [
  {
   "cell_type": "code",
   "execution_count": 4,
   "metadata": {},
   "outputs": [
    {
     "name": "stdout",
     "output_type": "stream",
     "text": [
      "se cumple la condicion\n",
      "se muestra este print\n"
     ]
    }
   ],
   "source": [
    "if not False:\n",
    "    print(\"se cumple la condicion\")\n",
    "    print(\"se muestra este print\")\n",
    "    # en python definimos un bloque de instrucciones despues de una sentencia de control debe de estar indentado\n",
    "    # siempre que le pasemos al if un valor logico siempre se ejecutara"
   ]
  },
  {
   "cell_type": "code",
   "execution_count": 5,
   "metadata": {},
   "outputs": [
    {
     "name": "stdout",
     "output_type": "stream",
     "text": [
      "a vale 5\n"
     ]
    }
   ],
   "source": [
    "a = 5\n",
    "if a == 2:\n",
    "# como a es 5 no entrara en este if y saltara al siguiente\n",
    "    print(\"a vale 2\")\n",
    "\n",
    "if a == 5:\n",
    "    print(\"a vale 5\")"
   ]
  },
  {
   "cell_type": "code",
   "execution_count": 6,
   "metadata": {},
   "outputs": [
    {
     "name": "stdout",
     "output_type": "stream",
     "text": [
      "a vale 5\n",
      " y b vale 10\n"
     ]
    }
   ],
   "source": [
    "a = 5\n",
    "b = 10\n",
    "if a ==5:\n",
    "    print(\"a vale\",a)\n",
    "    if b == 10:\n",
    "        print(\" y b vale\", b)"
   ]
  },
  {
   "cell_type": "code",
   "execution_count": 7,
   "metadata": {},
   "outputs": [
    {
     "name": "stdout",
     "output_type": "stream",
     "text": [
      "a vale 5 y b vale 10\n"
     ]
    }
   ],
   "source": [
    "if a ==5 and b == 10 :\n",
    "    print(\"a vale 5 y b vale 10\")"
   ]
  },
  {
   "cell_type": "code",
   "execution_count": 9,
   "metadata": {},
   "outputs": [
    {
     "name": "stdout",
     "output_type": "stream",
     "text": [
      "11 es un numero impar\n"
     ]
    }
   ],
   "source": [
    "n = 11\n",
    "if n % 2 == 0:\n",
    "    print(n,\"es un numero par\")\n",
    "else:\n",
    "    print(n,\"es un numero impar\")"
   ]
  },
  {
   "cell_type": "code",
   "execution_count": 15,
   "metadata": {},
   "outputs": [
    {
     "name": "stdout",
     "output_type": "stream",
     "text": [
      "hola espero que te la estes pasando bien aprendiendo python\n"
     ]
    }
   ],
   "source": [
    "comando = \"SALUDAR\"\n",
    "\n",
    "if comando == \"ENTRAR\":\n",
    "    print(\"bienvenido al sistema\")\n",
    "elif comando == \"SALUDAR\":\n",
    "    print(\"hola espero que te la estes pasando bien aprendiendo python\")\n",
    "elif comando == \"SALIR\":\n",
    "    print(\"saliendo del sistema...\")\n",
    "else:\n",
    "    print(\" este comando no se reconoce\")\n",
    "    "
   ]
  },
  {
   "cell_type": "code",
   "execution_count": 17,
   "metadata": {},
   "outputs": [
    {
     "name": "stdout",
     "output_type": "stream",
     "text": [
      "introduce una nota:6\n",
      "bien\n"
     ]
    }
   ],
   "source": [
    "nota = float(input(\"introduce una nota:\"))\n",
    "if nota >= 9:\n",
    "    print(\"sobresaliente\")\n",
    "elif nota >= 7:\n",
    "    print(\"es un notable\")\n",
    "elif nota >= 6:\n",
    "    print(\"bien\")\n",
    "elif nota >= 5:\n",
    "    print(\"suficiente\")\n",
    "else:\n",
    "    print(\"insuficiente\")\n",
    "# usando elif se comprueba los casos de arriba abajo y cuando entra en uno deja de ejecutarse los otros \n",
    "    \n",
    "    "
   ]
  },
  {
   "cell_type": "code",
   "execution_count": 23,
   "metadata": {},
   "outputs": [
    {
     "name": "stdout",
     "output_type": "stream",
     "text": [
      "introduce una nota:10\n",
      "sobresaliente\n"
     ]
    }
   ],
   "source": [
    "nota = float(input(\"introduce una nota:\"))\n",
    "if nota >= 9:\n",
    "    print(\"sobresaliente\")\n",
    "if nota >= 7 and nota < 9:\n",
    "    print(\"es un notable\")\n",
    "if nota >= 6 and  nota < 7:\n",
    "    print(\"bien\")\n",
    "if nota >= 5 and  nota < 6:\n",
    "    print(\"suficiente\")\n",
    "if nota < 5 :\n",
    "    print(\"insuficiente\")\n",
    "    \n",
    "    # si usamos if se ejecutan todos los casos donde entre, si queremos usar solo if, debemos delimitar los rangos para cada if "
   ]
  },
  {
   "cell_type": "code",
   "execution_count": null,
   "metadata": {},
   "outputs": [],
   "source": [
    "# pass se usa para dejar el bloque vacio, nos permite hacer esqueletos de estructuras\n",
    "if True:\n",
    "    pass"
   ]
  }
 ],
 "metadata": {
  "kernelspec": {
   "display_name": "Python 3",
   "language": "python",
   "name": "python3"
  },
  "language_info": {
   "codemirror_mode": {
    "name": "ipython",
    "version": 3
   },
   "file_extension": ".py",
   "mimetype": "text/x-python",
   "name": "python",
   "nbconvert_exporter": "python",
   "pygments_lexer": "ipython3",
   "version": "3.8.5"
  }
 },
 "nbformat": 4,
 "nbformat_minor": 1
}
