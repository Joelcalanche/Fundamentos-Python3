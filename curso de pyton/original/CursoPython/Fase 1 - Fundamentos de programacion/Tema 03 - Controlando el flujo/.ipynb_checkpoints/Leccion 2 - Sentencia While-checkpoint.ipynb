{
 "cells": [
  {
   "cell_type": "code",
   "execution_count": 1,
   "metadata": {},
   "outputs": [
    {
     "name": "stdout",
     "output_type": "stream",
     "text": [
      " c vale  1\n",
      " c vale  2\n",
      " c vale  3\n",
      " c vale  4\n",
      " c vale  5\n",
      " c vale  6\n"
     ]
    }
   ],
   "source": [
    "# la clave del while es que a partir de una exppresion relacional o logica es capaz de repetir un  bloque hasta que devuelva true\n",
    "# debemos cambiar a false para salir\n",
    "c = 0\n",
    "while c <= 5:\n",
    "    c += 1\n",
    "    print(\" c vale \", c)\n",
    "# podemos encadenar un else para ejecutar un codigo despues que las iteraciones se hayan completado\n",
    "\n",
    "    "
   ]
  },
  {
   "cell_type": "code",
   "execution_count": 2,
   "metadata": {},
   "outputs": [
    {
     "name": "stdout",
     "output_type": "stream",
     "text": [
      " c vale  1\n",
      " c vale  2\n",
      " c vale  3\n",
      " c vale  4\n",
      " c vale  5\n",
      " c vale  6\n",
      " se ha completado toda la iteracion y c vale 6\n"
     ]
    }
   ],
   "source": [
    "c = 0\n",
    "while c <= 5:\n",
    "    c += 1\n",
    "    print(\" c vale \", c)\n",
    "else:\n",
    "    print(\" se ha completado toda la iteracion y c vale\", c)"
   ]
  },
  {
   "cell_type": "code",
   "execution_count": 4,
   "metadata": {},
   "outputs": [
    {
     "name": "stdout",
     "output_type": "stream",
     "text": [
      " c vale  1\n",
      " c vale  2\n",
      " c vale  3\n",
      "rompemos el bucle cuando c vale 4\n"
     ]
    }
   ],
   "source": [
    "# podemos romper la ejecucion de  iteracion con un break, no se ejecutara el else\n",
    "c = 0\n",
    "while c <= 5:\n",
    "    c += 1\n",
    "    if(c==4):\n",
    "        print(\"rompemos el bucle cuando c vale\", c)\n",
    "        break\n",
    "    print(\" c vale \", c)\n",
    "else:\n",
    "    print(\"se ha completado toda la iteracion y c vale\", c)"
   ]
  },
  {
   "cell_type": "code",
   "execution_count": 7,
   "metadata": {},
   "outputs": [
    {
     "name": "stdout",
     "output_type": "stream",
     "text": [
      " c vale  1\n",
      " c vale  2\n",
      "continuamos con la siguiente iteracion 3\n",
      "continuamos con la siguiente iteracion 4\n",
      " c vale  5\n",
      " c vale  6\n",
      "se ha completado toda la iteracion y c vale 6\n"
     ]
    }
   ],
   "source": [
    "# con el continue podemos saltar la iteacion especifica, pero no el bucle\n",
    "c = 0\n",
    "while c <= 5:\n",
    "    c += 1\n",
    "    if(c==4 or c==3):\n",
    "        print(\"continuamos con la siguiente iteracion\", c)\n",
    "        continue\n",
    "    print(\" c vale \", c)\n",
    "else:\n",
    "    print(\"se ha completado toda la iteracion y c vale\", c)"
   ]
  },
  {
   "cell_type": "code",
   "execution_count": 8,
   "metadata": {},
   "outputs": [
    {
     "name": "stdout",
     "output_type": "stream",
     "text": [
      " bienvenido al menu interactivo\n",
      "\"¿que quieres hacer? escribe una opcion\n",
      "    1) saludar\n",
      "    2) sumar dos numeros\n",
      "    3 salir\n",
      "introduce una opcion1\n",
      "hola, espero te la pases bien\n",
      "\"¿que quieres hacer? escribe una opcion\n",
      "    1) saludar\n",
      "    2) sumar dos numeros\n",
      "    3 salir\n",
      "introduce una opcion2\n",
      "introduce el primer numero10\n",
      "introduce el segundo numero5\n",
      "el resultado de la suma  es 15.0\n",
      "\"¿que quieres hacer? escribe una opcion\n",
      "    1) saludar\n",
      "    2) sumar dos numeros\n",
      "    3 salir\n",
      "introduce una opcionsadd\n",
      "comando desconocido, vuelve a intentarlo\n",
      "\"¿que quieres hacer? escribe una opcion\n",
      "    1) saludar\n",
      "    2) sumar dos numeros\n",
      "    3 salir\n",
      "introduce una opcion3\n",
      " hasta luego ha sido un placer ayudarte\n"
     ]
    }
   ],
   "source": [
    "print(\" bienvenido al menu interactivo\")\n",
    "while (True):\n",
    "    print(\"\"\"\"¿que quieres hacer? escribe una opcion\n",
    "    1) saludar\n",
    "    2) sumar dos numeros\n",
    "    3 salir\"\"\")\n",
    "    opcion = input(\"introduce una opcion\")\n",
    "    if opcion == '1':\n",
    "        print(\"hola, espero te la pases bien\")\n",
    "    elif opcion == '2':\n",
    "        n1= float(input(\"introduce el primer numero\"))\n",
    "        n2= float(input(\"introduce el segundo numero\"))\n",
    "        print(\"el resultado de la suma  es\", n1 + n2)\n",
    "    elif opcion == '3':\n",
    "        print(\" hasta luego ha sido un placer ayudarte\")\n",
    "        # con el breack rompemos la ejecucion del while infinito\n",
    "        break\n",
    "    else:\n",
    "        print(\"comando desconocido, vuelve a intentarlo\")\n",
    "        \n",
    "    \n",
    "    "
   ]
  },
  {
   "cell_type": "code",
   "execution_count": null,
   "metadata": {},
   "outputs": [],
   "source": []
  }
 ],
 "metadata": {
  "kernelspec": {
   "display_name": "Python 3",
   "language": "python",
   "name": "python3"
  },
  "language_info": {
   "codemirror_mode": {
    "name": "ipython",
    "version": 3
   },
   "file_extension": ".py",
   "mimetype": "text/x-python",
   "name": "python",
   "nbconvert_exporter": "python",
   "pygments_lexer": "ipython3",
   "version": "3.8.5"
  }
 },
 "nbformat": 4,
 "nbformat_minor": 1
}
