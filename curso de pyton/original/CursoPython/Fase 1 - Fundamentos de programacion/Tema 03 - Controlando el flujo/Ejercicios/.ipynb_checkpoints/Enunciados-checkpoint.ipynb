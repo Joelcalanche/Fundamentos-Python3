{
 "cells": [
  {
   "cell_type": "markdown",
   "metadata": {},
   "source": [
    "# Tema 03: Control de flujo (Enunciados)\n",
    "*Nota: Estos ejercicios son optativos para hacer al final de la unidad y están pensados para apoyar tu aprendizaje*."
   ]
  },
  {
   "cell_type": "markdown",
   "metadata": {},
   "source": [
    "**1) Realiza un programa que lea dos números por teclado y permita elegir entre 3 opciones en un menú:** \n",
    "* Mostrar una suma de los dos números\n",
    "* Mostrar una resta de los dos números (el primero menos el segundo)\n",
    "* Mostrar una multiplicación de los dos números\n",
    "* En caso de no introducir una opción válida, el programa informará de que no es correcta."
   ]
  },
  {
   "cell_type": "code",
   "execution_count": 6,
   "metadata": {},
   "outputs": [
    {
     "name": "stdout",
     "output_type": "stream",
     "text": [
      "introduce un numero :5\n",
      "introduce otro numero :5\n",
      " ¿que quieres hacer?\n",
      "[1] sumar dos numeros\n",
      "[2] restar dos numeros\n",
      "[3] multiplicar dos numeros\n",
      "introduce una opcionasd\n",
      "la opcion es incorrecta. \n"
     ]
    }
   ],
   "source": [
    "# Completa el ejercicio aquí\n",
    "n1 = float(input(\"introduce un numero :\"))\n",
    "n2 = float(input(\"introduce otro numero :\"))\n",
    "print(\" ¿que quieres hacer?\")\n",
    "print(\"[1] sumar dos numeros\")\n",
    "print(\"[2] restar dos numeros\")\n",
    "print(\"[3] multiplicar dos numeros\")\n",
    "opcion = input(\"introduce una opcion\")\n",
    "if opcion == \"1\":\n",
    "    print(\"la suma de \",n1, \"+\",n2,\"es\", n1 + n2)\n",
    "elif opcion == \"2\":\n",
    "    print(\"la resta de\", n1, \"-\", n2,\"es\", n1 - n2)\n",
    "elif opcion == \"3\":\n",
    "    print(\" el producto de\", n1, \"*\", n2,\"es\", n1 * n2)\n",
    "else:\n",
    "    print(\"la opcion es incorrecta. \")\n",
    "\n"
   ]
  },
  {
   "cell_type": "markdown",
   "metadata": {},
   "source": [
    "**2) Realiza un programa que lea un número impar por teclado. Si el usuario no introduce un número impar, debe repetise el proceso hasta que lo introduzca correctamente.**"
   ]
  },
  {
   "cell_type": "code",
   "execution_count": 7,
   "metadata": {},
   "outputs": [
    {
     "name": "stdout",
     "output_type": "stream",
     "text": [
      "introduce un numero impar4\n",
      "introduce un numero impar6\n",
      "introduce un numero impar2\n",
      "introduce un numero impar3\n"
     ]
    }
   ],
   "source": [
    "# Completa el ejercicio aquí\n",
    "numero = 0\n",
    "while numero % 2 == 0:\n",
    "    numero = int(input(\"introduce un numero impar\"))\n"
   ]
  },
  {
   "cell_type": "markdown",
   "metadata": {},
   "source": [
    "**3) Realiza un programa que sume todos los números enteros pares desde el 0 hasta el 100:**\n",
    "\n",
    "*Sugerencia: Puedes utilizar la funciones sum() y range() para hacerlo más fácil. El tercer parámetro en la función range(inicio, fin, salto) indica un salto de números, pruébalo.*"
   ]
  },
  {
   "cell_type": "code",
   "execution_count": 16,
   "metadata": {},
   "outputs": [
    {
     "name": "stdout",
     "output_type": "stream",
     "text": [
      "2550\n",
      "2550\n"
     ]
    }
   ],
   "source": [
    "# Completa el ejercicio aquí\n",
    "#(range(0, 101, 2))\n",
    "\n",
    "suma = sum(range(0,101,2))\n",
    "print(suma)\n",
    "    \n",
    "    \n",
    "# forma tradicional con bucle\n",
    "num = 0\n",
    "suma = 0\n",
    "\n",
    "while num <= 100:\n",
    "    if num % 2 == 0:\n",
    "        suma += num\n",
    "    num += 1\n",
    "print(suma)\n"
   ]
  },
  {
   "cell_type": "markdown",
   "metadata": {},
   "source": [
    "**4) Realiza un programa que pida al usuario cuantos números quiere introducir. Luego lee todos los números y realiza una media aritmética:**\n"
   ]
  },
  {
   "cell_type": "code",
   "execution_count": 18,
   "metadata": {},
   "outputs": [
    {
     "name": "stdout",
     "output_type": "stream",
     "text": [
      "cuantos numeros quieres introducir?:3\n",
      "introduce un numero: 10\n",
      "introduce un numero: 5\n",
      "introduce un numero: 7\n",
      " se han introducido 3  numeros que en total han sumado 22.0 y la media es  7.333333333333333\n"
     ]
    }
   ],
   "source": [
    "# Completa el ejercicio aquí\n",
    "repeticiones = int(input(\"cuantos numeros quieres introducir?:\") )\n",
    "suma = 0\n",
    "for r in range(repeticiones):\n",
    "    suma += float(input(\"introduce un numero: \"))\n",
    "print(\" se han introducido\",repeticiones, \" numeros que en total han sumado\", suma, \"y la media es \", suma/repeticiones)\n",
    "\n"
   ]
  },
  {
   "cell_type": "markdown",
   "metadata": {},
   "source": [
    "**5) Realiza un programa que pida al usuario un número entero del 0 al 9, y que mientras el número no sea correcto se repita el proceso. Luego debe comprobar si el número se encuentra en la lista de números y notificarlo:**\n",
    "\n",
    "*Consejo: La sintaxis \"valor in lista\" permite comprobar fácilmente si un valor se encuentra en una lista (devuelve True o False)*"
   ]
  },
  {
   "cell_type": "code",
   "execution_count": 22,
   "metadata": {},
   "outputs": [
    {
     "name": "stdout",
     "output_type": "stream",
     "text": [
      "escribe un numero del 0 al 9: 6\n",
      "el numero 6  se encuentra en la lista [1, 3, 6, 9]\n"
     ]
    }
   ],
   "source": [
    "# Completa el ejercicio aquí\n",
    "numeros = [1, 3, 6, 9]\n",
    "\n",
    "while True:\n",
    "    numero = int(input(\"escribe un numero del 0 al 9: \"))\n",
    "    if numero >=0 and numero <= 9:\n",
    "        break\n",
    "\n",
    "# con esta sentencia podemos preguntar si un valor esta en la lista         \n",
    "if numero in numeros:\n",
    "    print(\"el numero\", numero,\" se encuentra en la lista\", numeros)\n",
    "else:\n",
    "    print(\"el numero\", numero, \"no se encuentra en la lista\", numeros)\n",
    "    \n",
    "        \n"
   ]
  },
  {
   "cell_type": "markdown",
   "metadata": {},
   "source": [
    "**6) Utilizando la función range() y la conversión a listas genera las siguientes listas dinámicamente:**\n",
    "* Todos los números del 0 al 10 [0, 1, 2, ..., 10]\n",
    "* Todos los números del -10 al 0 [-10, -9, -8, ..., 0]\n",
    "* Todos los números pares del 0 al 20 [0, 2, 4, ..., 20]\n",
    "* Todos los números impares entre -20 y 0 [-19, -17, -15, ..., -1]\n",
    "* Todos los números múltiples de 5 del 0 al 50 [0, 5, 10, ..., 50]\n",
    "\n",
    "*Pista: Utiliza el tercer parámetro de la función range(inicio, fin, salto).*"
   ]
  },
  {
   "cell_type": "code",
   "execution_count": 23,
   "metadata": {},
   "outputs": [
    {
     "name": "stdout",
     "output_type": "stream",
     "text": [
      "[0, 1, 2, 3, 4, 5, 6, 7, 8, 9, 10]\n",
      "[-10, -9, -8, -7, -6, -5, -4, -3, -2, -1, 0]\n",
      "[0, 2, 4, 6, 8, 10, 12, 14, 16, 18, 20]\n",
      "[-19, -17, -15, -13, -11, -9, -7, -5, -3, -1]\n",
      "[0, 5, 10, 15, 20, 25, 30, 35, 40, 45, 50]\n"
     ]
    }
   ],
   "source": [
    "# Completa el ejercicio\n",
    "print(list(range(0,11 ) ) )\n",
    "print(list(range( -10, 1) ) )\n",
    "print(list(range(0, 21, 2 ) ) )\n",
    "print(list(range(-19, 0, 2 ) ) )\n",
    "print(list(range( 0, 51, 5) ) )\n"
   ]
  },
  {
   "cell_type": "markdown",
   "metadata": {},
   "source": [
    "**7) Dadas dos listas, debes generar una tercera con todos los elementos que se repitan en ellas, pero no debe repetise ningún elemento en la nueva lista:**"
   ]
  },
  {
   "cell_type": "code",
   "execution_count": 24,
   "metadata": {},
   "outputs": [
    {
     "name": "stdout",
     "output_type": "stream",
     "text": [
      "['h', 'o', 'l', 'a', 'u', 'n']\n"
     ]
    }
   ],
   "source": [
    "# Completa el ejercicio aquí\n",
    "lista_1 = [\"h\",'o','l','a','m','u','n','d','o']\n",
    "lista_2 = [\"h\",'o','l','a','l','u','n','a']\n",
    "\n",
    "lista_3 = []\n",
    "\n",
    "for letra in lista_1:\n",
    "    if letra in lista_2 and letra not in lista_3:\n",
    "        lista_3.append(letra)\n",
    "print(lista_3)"
   ]
  },
  {
   "cell_type": "code",
   "execution_count": null,
   "metadata": {},
   "outputs": [],
   "source": []
  }
 ],
 "metadata": {
  "anaconda-cloud": {},
  "kernelspec": {
   "display_name": "Python 3",
   "language": "python",
   "name": "python3"
  },
  "language_info": {
   "codemirror_mode": {
    "name": "ipython",
    "version": 3
   },
   "file_extension": ".py",
   "mimetype": "text/x-python",
   "name": "python",
   "nbconvert_exporter": "python",
   "pygments_lexer": "ipython3",
   "version": "3.8.5"
  }
 },
 "nbformat": 4,
 "nbformat_minor": 1
}
