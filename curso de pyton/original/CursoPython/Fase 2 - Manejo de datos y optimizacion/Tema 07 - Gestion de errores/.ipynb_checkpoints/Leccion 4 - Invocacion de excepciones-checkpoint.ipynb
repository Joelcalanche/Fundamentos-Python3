{
 "cells": [
  {
   "cell_type": "code",
   "execution_count": 2,
   "metadata": {},
   "outputs": [],
   "source": [
    "def mi_funcion(algo = None):\n",
    "    if algo is None:\n",
    "        print(\"error no se permite un valor nulo\")\n",
    "mi_funcion(\"algo\")"
   ]
  },
  {
   "cell_type": "code",
   "execution_count": 3,
   "metadata": {},
   "outputs": [
    {
     "name": "stdout",
     "output_type": "stream",
     "text": [
      "error no se permite un valor nulo\n"
     ]
    }
   ],
   "source": [
    "mi_funcion()"
   ]
  },
  {
   "cell_type": "code",
   "execution_count": 5,
   "metadata": {},
   "outputs": [
    {
     "name": "stdout",
     "output_type": "stream",
     "text": [
      "error, no se permite valor nulo(desde la excepcion)\n"
     ]
    }
   ],
   "source": [
    "def mi_funcion(algo = None):\n",
    "    try:\n",
    "        if algo is None:\n",
    "            raise ValueError(\"error no se permite un valor nulo\")\n",
    "    except ValueError:\n",
    "        print(\"error, no se permite valor nulo(desde la excepcion)\")\n",
    "        \n",
    "        \n",
    "mi_funcion()"
   ]
  },
  {
   "cell_type": "code",
   "execution_count": null,
   "metadata": {},
   "outputs": [],
   "source": []
  }
 ],
 "metadata": {
  "kernelspec": {
   "display_name": "Python 3",
   "language": "python",
   "name": "python3"
  },
  "language_info": {
   "codemirror_mode": {
    "name": "ipython",
    "version": 3
   },
   "file_extension": ".py",
   "mimetype": "text/x-python",
   "name": "python",
   "nbconvert_exporter": "python",
   "pygments_lexer": "ipython3",
   "version": "3.8.5"
  }
 },
 "nbformat": 4,
 "nbformat_minor": 1
}
