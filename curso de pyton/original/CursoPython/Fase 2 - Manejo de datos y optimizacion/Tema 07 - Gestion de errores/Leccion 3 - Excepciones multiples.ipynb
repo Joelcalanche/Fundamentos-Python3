{
 "cells": [
  {
   "cell_type": "code",
   "execution_count": 2,
   "metadata": {},
   "outputs": [
    {
     "name": "stdout",
     "output_type": "stream",
     "text": [
      " introduce un numero: 10\n",
      "TypeError\n"
     ]
    }
   ],
   "source": [
    "try:\n",
    "    n = input(\" introduce un numero: \")\n",
    "    5/n\n",
    "except  Exception as e:\n",
    "    print(type(e).__name__)"
   ]
  },
  {
   "cell_type": "code",
   "execution_count": 8,
   "metadata": {},
   "outputs": [
    {
     "name": "stdout",
     "output_type": "stream",
     "text": [
      " introduce un numero: 0\n",
      "prueba otro numero distinto de 0 \n"
     ]
    }
   ],
   "source": [
    "try:\n",
    "    n = float(input(\" introduce un numero: \"))\n",
    "    5/n\n",
    "except TypeError:\n",
    "    print(\"no se puede dividir el numero por una cadena\")\n",
    "except ValueError:\n",
    "    print(\"introducir una cadena que sea un numero \")\n",
    "except ZeroDivisionError:\n",
    "    print(\"prueba otro numero distinto de 0 \")\n",
    "    \n",
    "# con este codigo capturo el nombre propio de la exception\n",
    "\n",
    "# para trabajar con varias exepciones es bueno siempre dejar la generica al final de las demas \n",
    "except  Exception as e:\n",
    "    print(type(e).__name__)"
   ]
  },
  {
   "cell_type": "code",
   "execution_count": null,
   "metadata": {},
   "outputs": [],
   "source": []
  }
 ],
 "metadata": {
  "kernelspec": {
   "display_name": "Python 3",
   "language": "python",
   "name": "python3"
  },
  "language_info": {
   "codemirror_mode": {
    "name": "ipython",
    "version": 3
   },
   "file_extension": ".py",
   "mimetype": "text/x-python",
   "name": "python",
   "nbconvert_exporter": "python",
   "pygments_lexer": "ipython3",
   "version": "3.8.5"
  }
 },
 "nbformat": 4,
 "nbformat_minor": 1
}
