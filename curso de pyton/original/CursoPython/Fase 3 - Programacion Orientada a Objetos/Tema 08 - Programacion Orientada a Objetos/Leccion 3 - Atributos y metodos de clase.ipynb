{
 "cells": [
  {
   "cell_type": "code",
   "execution_count": 1,
   "metadata": {},
   "outputs": [],
   "source": [
    "class Galleta:\n",
    "    pass\n",
    "una_galleta = Galleta()"
   ]
  },
  {
   "cell_type": "code",
   "execution_count": 2,
   "metadata": {},
   "outputs": [],
   "source": [
    "una_galleta.sabor = \"salado\""
   ]
  },
  {
   "cell_type": "code",
   "execution_count": 4,
   "metadata": {},
   "outputs": [],
   "source": [
    "una_galleta.color = \" marron\""
   ]
  },
  {
   "cell_type": "code",
   "execution_count": 6,
   "metadata": {},
   "outputs": [
    {
     "name": "stdout",
     "output_type": "stream",
     "text": [
      "el sabor de esta galleta es salado\n"
     ]
    }
   ],
   "source": [
    "print(\"el sabor de esta galleta es\", una_galleta.sabor)"
   ]
  },
  {
   "cell_type": "code",
   "execution_count": 7,
   "metadata": {},
   "outputs": [
    {
     "data": {
      "text/plain": [
       "False"
      ]
     },
     "execution_count": 7,
     "metadata": {},
     "output_type": "execute_result"
    }
   ],
   "source": [
    "class Galleta:\n",
    "    chocolate = False\n",
    "g = Galleta()\n",
    "g.chocolate"
   ]
  },
  {
   "cell_type": "code",
   "execution_count": 8,
   "metadata": {},
   "outputs": [],
   "source": [
    "g.chocolate = True"
   ]
  },
  {
   "cell_type": "code",
   "execution_count": 9,
   "metadata": {},
   "outputs": [
    {
     "data": {
      "text/plain": [
       "True"
      ]
     },
     "execution_count": 9,
     "metadata": {},
     "output_type": "execute_result"
    }
   ],
   "source": [
    "g.chocolate"
   ]
  },
  {
   "cell_type": "code",
   "execution_count": 10,
   "metadata": {},
   "outputs": [],
   "source": [
    "# lo interesante es establecer los atributos cuando se crea un objeto, para ello necesitamos el metodo __init__ y la palabra reservadad self(hace referencia al propio objeto) diferencia entre el ambito de clase y del un metodo \n",
    "# el metodo init es una funcion interna de la clase, el init se comparte por todos los objetos de la misma clase y se ejecuta al crear un objeto, y permite ademas enviarle argumentos durante la instanciacion, los metodos especiales se escriben con 2 barras bajas\n"
   ]
  },
  {
   "cell_type": "code",
   "execution_count": 11,
   "metadata": {},
   "outputs": [
    {
     "name": "stdout",
     "output_type": "stream",
     "text": [
      "se acaba de crear una galleta\n"
     ]
    }
   ],
   "source": [
    "class Galleta():\n",
    "    chocolate = False\n",
    "    def __init__(self):\n",
    "        print(\"se acaba de crear una galleta\")\n",
    "g = Galleta()"
   ]
  },
  {
   "cell_type": "code",
   "execution_count": 12,
   "metadata": {},
   "outputs": [
    {
     "name": "stdout",
     "output_type": "stream",
     "text": [
      "se acaba de crear una galleta\n"
     ]
    },
    {
     "data": {
      "text/plain": [
       "False"
      ]
     },
     "execution_count": 12,
     "metadata": {},
     "output_type": "execute_result"
    }
   ],
   "source": [
    "class Galleta():\n",
    "    chocolate = False\n",
    "    def __init__(self):\n",
    "        print(\"se acaba de crear una galleta\")\n",
    "        \n",
    "    def chocolatear(self):# debo pasarle obligatoriamente self\n",
    "        chocolate = True\n",
    "        \n",
    "        \n",
    "g = Galleta()\n",
    "g.chocolatear()\n",
    "g.chocolate"
   ]
  },
  {
   "cell_type": "code",
   "execution_count": 14,
   "metadata": {},
   "outputs": [
    {
     "name": "stdout",
     "output_type": "stream",
     "text": [
      "se acaba de crear una galleta\n",
      "soy una galleta sin chocolate =(\n",
      "soy una galleta chocolateada :+)\n"
     ]
    }
   ],
   "source": [
    "class Galleta():\n",
    "    chocolate = False\n",
    "    def __init__(self):\n",
    "        print(\"se acaba de crear una galleta\")\n",
    "        \n",
    "    def chocolatear(self):# debo pasarle obligatoriamente self\n",
    "        self.chocolate = True # de esta manera hacemos que la modificacion del atributo sea global\n",
    "    \n",
    "    def tiene_chocolate(self):\n",
    "        if ( self.chocolate):\n",
    "            print(\"soy una galleta chocolateada :+)\")\n",
    "        else:\n",
    "            print(\"soy una galleta sin chocolate =(\")\n",
    "        \n",
    "        \n",
    "        \n",
    "g = Galleta()\n",
    "g.tiene_chocolate()\n",
    "g.chocolatear()\n",
    "g.tiene_chocolate()"
   ]
  },
  {
   "cell_type": "code",
   "execution_count": 19,
   "metadata": {},
   "outputs": [],
   "source": [
    "class Galleta():\n",
    "    chocolate = False\n",
    "    def __init__(self, sabor, forma ):\n",
    "        self.sabor = sabor\n",
    "        self.forma = forma \n",
    "        print(f\"se acaba de crear una galleta {sabor} {forma}\")\n",
    "        \n",
    "    def chocolatear(self):# debo pasarle obligatoriamente self\n",
    "        self.chocolate = True # de esta manera hacemos que la modificacion del atributo sea global\n",
    "    \n",
    "    def tiene_chocolate(self):\n",
    "        if ( self.chocolate):\n",
    "            print(\"soy una galleta chocolateada :+)\")\n",
    "        else:\n",
    "            print(\"soy una galleta sin chocolate =(\")"
   ]
  },
  {
   "cell_type": "code",
   "execution_count": 20,
   "metadata": {},
   "outputs": [
    {
     "name": "stdout",
     "output_type": "stream",
     "text": [
      "se acaba de crear una galleta salada cuadrada\n"
     ]
    }
   ],
   "source": [
    "g = Galleta(\"salada\",\"cuadrada\")"
   ]
  },
  {
   "cell_type": "code",
   "execution_count": 21,
   "metadata": {},
   "outputs": [
    {
     "ename": "TypeError",
     "evalue": "__init__() missing 2 required positional arguments: 'sabor' and 'forma'",
     "output_type": "error",
     "traceback": [
      "\u001b[1;31m---------------------------------------------------------------------------\u001b[0m",
      "\u001b[1;31mTypeError\u001b[0m                                 Traceback (most recent call last)",
      "\u001b[1;32m<ipython-input-21-eb174ad5b988>\u001b[0m in \u001b[0;36m<module>\u001b[1;34m\u001b[0m\n\u001b[1;32m----> 1\u001b[1;33m \u001b[0mg\u001b[0m \u001b[1;33m=\u001b[0m \u001b[0mGalleta\u001b[0m\u001b[1;33m(\u001b[0m\u001b[1;33m)\u001b[0m\u001b[1;33m\u001b[0m\u001b[1;33m\u001b[0m\u001b[0m\n\u001b[0m",
      "\u001b[1;31mTypeError\u001b[0m: __init__() missing 2 required positional arguments: 'sabor' and 'forma'"
     ]
    }
   ],
   "source": [
    "g = Galleta()"
   ]
  },
  {
   "cell_type": "code",
   "execution_count": 24,
   "metadata": {},
   "outputs": [],
   "source": [
    "class Galleta():\n",
    "    chocolate = False\n",
    "    def __init__(self, sabor = None, forma = None ):\n",
    "        self.sabor = sabor\n",
    "        self.forma = forma \n",
    "        if sabor is not None and forma is not None:\n",
    "            \n",
    "            print(f\"se acaba de crear una galleta {sabor} {forma}\")\n",
    "        \n",
    "    def chocolatear(self):# debo pasarle obligatoriamente self\n",
    "        self.chocolate = True # de esta manera hacemos que la modificacion del atributo sea global\n",
    "    \n",
    "    def tiene_chocolate(self):\n",
    "        if ( self.chocolate):\n",
    "            print(\"soy una galleta chocolateada :+)\")\n",
    "        else:\n",
    "            print(\"soy una galleta sin chocolate =(\")"
   ]
  },
  {
   "cell_type": "code",
   "execution_count": 26,
   "metadata": {},
   "outputs": [
    {
     "name": "stdout",
     "output_type": "stream",
     "text": [
      "se acaba de crear una galleta  salada  cuadrada\n"
     ]
    }
   ],
   "source": [
    "g = Galleta(\" salada\", \" cuadrada\")"
   ]
  },
  {
   "cell_type": "code",
   "execution_count": null,
   "metadata": {},
   "outputs": [],
   "source": []
  }
 ],
 "metadata": {
  "kernelspec": {
   "display_name": "Python 3",
   "language": "python",
   "name": "python3"
  },
  "language_info": {
   "codemirror_mode": {
    "name": "ipython",
    "version": 3
   },
   "file_extension": ".py",
   "mimetype": "text/x-python",
   "name": "python",
   "nbconvert_exporter": "python",
   "pygments_lexer": "ipython3",
   "version": "3.8.5"
  }
 },
 "nbformat": 4,
 "nbformat_minor": 1
}
