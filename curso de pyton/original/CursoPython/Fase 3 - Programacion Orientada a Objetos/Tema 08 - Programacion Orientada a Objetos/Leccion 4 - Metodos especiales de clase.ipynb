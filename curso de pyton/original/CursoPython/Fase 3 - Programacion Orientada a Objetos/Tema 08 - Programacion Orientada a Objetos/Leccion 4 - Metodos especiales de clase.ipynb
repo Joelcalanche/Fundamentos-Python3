{
 "cells": [
  {
   "cell_type": "code",
   "execution_count": 2,
   "metadata": {},
   "outputs": [
    {
     "name": "stdout",
     "output_type": "stream",
     "text": [
      " se ha creado una pelicula  El padrino\n"
     ]
    }
   ],
   "source": [
    "class Pelicula:\n",
    "    # constructo clase\n",
    "    def __init__(self, titulo, duracion, lanzamiento):\n",
    "        self.titulo = titulo\n",
    "        self.duracion = duracion\n",
    "        self.lanzamiento = lanzamiento\n",
    "        print(\" se ha creado una pelicula \", self.titulo)\n",
    "        # existe un metodo destructor que se ejecuta  cuando decidimos borrar una instancia\n",
    "    # destructor de clase\n",
    "    def __del__(self):\n",
    "        print(\" se esta borrando la pelicula\",self.titulo)\n",
    "p = Pelicula(\"El padrino\", 175,1972)\n"
   ]
  },
  {
   "cell_type": "code",
   "execution_count": 7,
   "metadata": {},
   "outputs": [
    {
     "data": {
      "text/plain": [
       "'<__main__.Pelicula object at 0x000001DBE24C5880>'"
      ]
     },
     "execution_count": 7,
     "metadata": {},
     "output_type": "execute_result"
    }
   ],
   "source": [
    "str(p)"
   ]
  },
  {
   "cell_type": "code",
   "execution_count": 3,
   "metadata": {},
   "outputs": [
    {
     "name": "stdout",
     "output_type": "stream",
     "text": [
      " se ha creado una pelicula  El padrino\n",
      " se esta borrando la pelicula El padrino\n"
     ]
    },
    {
     "data": {
      "text/plain": [
       "'El padrino lanzanda en 1972 con una duracion de 175'"
      ]
     },
     "execution_count": 3,
     "metadata": {},
     "output_type": "execute_result"
    }
   ],
   "source": [
    "class Pelicula:    \n",
    "    # constructo clase\n",
    "    def __init__(self, titulo, duracion, lanzamiento):\n",
    "        self.titulo = titulo\n",
    "        self.duracion = duracion\n",
    "        self.lanzamiento = lanzamiento\n",
    "        print(\" se ha creado una pelicula \", self.titulo)\n",
    "        # existe un metodo destructor que se ejecuta  cuando decidimos borrar una instancia\n",
    "    # destructor de clase\n",
    "    def __del__(self):\n",
    "        print(\" se esta borrando la pelicula\",self.titulo)\n",
    "    # redefinimos el metodo string\n",
    "    def __str__(self):\n",
    "        return f\"{self.titulo} lanzanda en {self.lanzamiento} con una duracion de {self.duracion}\"\n",
    "    \n",
    "p = Pelicula(\"El padrino\", 175,1972)\n",
    "str (p)"
   ]
  },
  {
   "cell_type": "code",
   "execution_count": 4,
   "metadata": {},
   "outputs": [
    {
     "data": {
      "text/plain": [
       "'El padrino lanzanda en 1972 con una duracion de 175'"
      ]
     },
     "execution_count": 4,
     "metadata": {},
     "output_type": "execute_result"
    }
   ],
   "source": [
    "str(p) # el metodo str lo podemos usar en objetos siempre que queramos que nos alguna informacion de el "
   ]
  },
  {
   "cell_type": "code",
   "execution_count": 5,
   "metadata": {},
   "outputs": [
    {
     "ename": "TypeError",
     "evalue": "object of type 'Pelicula' has no len()",
     "output_type": "error",
     "traceback": [
      "\u001b[1;31m---------------------------------------------------------------------------\u001b[0m",
      "\u001b[1;31mTypeError\u001b[0m                                 Traceback (most recent call last)",
      "\u001b[1;32m<ipython-input-5-247f5a84c568>\u001b[0m in \u001b[0;36m<module>\u001b[1;34m\u001b[0m\n\u001b[0;32m      1\u001b[0m \u001b[1;31m# podemos adaptar los metodos originales  a nuestros objtos por ejemplo len()\u001b[0m\u001b[1;33m\u001b[0m\u001b[1;33m\u001b[0m\u001b[1;33m\u001b[0m\u001b[0m\n\u001b[1;32m----> 2\u001b[1;33m \u001b[0mlen\u001b[0m\u001b[1;33m(\u001b[0m\u001b[0mp\u001b[0m\u001b[1;33m)\u001b[0m\u001b[1;33m\u001b[0m\u001b[1;33m\u001b[0m\u001b[0m\n\u001b[0m",
      "\u001b[1;31mTypeError\u001b[0m: object of type 'Pelicula' has no len()"
     ]
    }
   ],
   "source": [
    "# podemos adaptar los metodos originales  a nuestros objtos por ejemplo len()\n",
    "len(p)"
   ]
  },
  {
   "cell_type": "code",
   "execution_count": 6,
   "metadata": {},
   "outputs": [
    {
     "name": "stdout",
     "output_type": "stream",
     "text": [
      " se ha creado una pelicula  El padrino\n",
      " se esta borrando la pelicula El padrino\n"
     ]
    },
    {
     "data": {
      "text/plain": [
       "175"
      ]
     },
     "execution_count": 6,
     "metadata": {},
     "output_type": "execute_result"
    }
   ],
   "source": [
    "class Pelicula:    \n",
    "    # constructo clase\n",
    "    def __init__(self, titulo, duracion, lanzamiento):\n",
    "        self.titulo = titulo\n",
    "        self.duracion = duracion\n",
    "        self.lanzamiento = lanzamiento\n",
    "        print(\" se ha creado una pelicula \", self.titulo)\n",
    "        # existe un metodo destructor que se ejecuta  cuando decidimos borrar una instancia\n",
    "    # destructor de clase\n",
    "    def __del__(self):\n",
    "        print(\" se esta borrando la pelicula\",self.titulo)\n",
    "    # redefinimos el metodo string\n",
    "    def __str__(self):\n",
    "        return f\"{self.titulo} lanzanda en {self.lanzamiento} con una duracion de {self.duracion}\"\n",
    "    \n",
    "    # redefinimos el metodo len()\n",
    "    def __len__(self):\n",
    "        return self.duracion\n",
    "    \n",
    "p = Pelicula(\"El padrino\", 175,1972)\n",
    "len(p)\n",
    "# tanto srt como len son algo particularres en su forma de ejecutarse, son metodos que no se ejecuenta con un \".\"despues del nombre del objeto\n",
    "# se ejecutan cuando las funciones externas las tomaan como un paramatro"
   ]
  },
  {
   "cell_type": "code",
   "execution_count": null,
   "metadata": {},
   "outputs": [],
   "source": []
  }
 ],
 "metadata": {
  "kernelspec": {
   "display_name": "Python 3",
   "language": "python",
   "name": "python3"
  },
  "language_info": {
   "codemirror_mode": {
    "name": "ipython",
    "version": 3
   },
   "file_extension": ".py",
   "mimetype": "text/x-python",
   "name": "python",
   "nbconvert_exporter": "python",
   "pygments_lexer": "ipython3",
   "version": "3.8.5"
  }
 },
 "nbformat": 4,
 "nbformat_minor": 1
}
