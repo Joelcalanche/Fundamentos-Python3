{
 "cells": [
  {
   "cell_type": "code",
   "execution_count": 3,
   "metadata": {},
   "outputs": [],
   "source": [
    "class Producto:\n",
    "    def __init__(self,referencia,tipo,nombre,pvp,descripcion,productor = None, distribuidor = None, isbn = None, autor = None):\n",
    "        \n",
    "        self.referencia = referencia\n",
    "        self.tipo = tipo\n",
    "        self.nombre = nombre\n",
    "        self.pvp = pvp\n",
    "        self.descripcion = descripcion\n",
    "        self.productor = productor\n",
    "        self.distribuidor = distribuidor\n",
    "        self.isbn = isbn \n",
    "        self.autor = autor\n",
    "        \n",
    "        \n",
    "adorno = Producto('000A', \"ADORNO\",\" Vaso Adornado\", 15, 'Vaso de porcelana con dibujos')\n"
   ]
  },
  {
   "cell_type": "code",
   "execution_count": 4,
   "metadata": {},
   "outputs": [
    {
     "data": {
      "text/plain": [
       "<__main__.Producto at 0x28e37889d30>"
      ]
     },
     "execution_count": 4,
     "metadata": {},
     "output_type": "execute_result"
    }
   ],
   "source": [
    "adorno"
   ]
  },
  {
   "cell_type": "code",
   "execution_count": 5,
   "metadata": {},
   "outputs": [
    {
     "data": {
      "text/plain": [
       "'ADORNO'"
      ]
     },
     "execution_count": 5,
     "metadata": {},
     "output_type": "execute_result"
    }
   ],
   "source": [
    "adorno.tipo"
   ]
  },
  {
   "cell_type": "code",
   "execution_count": 7,
   "metadata": {},
   "outputs": [
    {
     "name": "stdout",
     "output_type": "stream",
     "text": [
      "REFERENCIA\t2034\n",
      "NOMBRE\t\tvaso adornado\n",
      "PVP\t\t15\n",
      "DESCRIPCION\tvaso de porcelana adornado con arboles\n",
      "        \n"
     ]
    }
   ],
   "source": [
    "# debemos identificar la superclases y las posibles subclases\n",
    "class Producto:\n",
    "    def __init__(self,referencia,nombre,pvp, descripcion):\n",
    "        \n",
    "        self.referencia = referencia\n",
    "      \n",
    "        self.nombre = nombre\n",
    "        self.pvp = pvp\n",
    "        self.descripcion = descripcion\n",
    "    def __str__(self):\n",
    "        return f\"\"\"\\\n",
    "REFERENCIA\\t{self.referencia}\n",
    "NOMBRE\\t\\t{self.nombre}\n",
    "PVP\\t\\t{self.pvp}\n",
    "DESCRIPCION\\t{self.descripcion}\n",
    "        \"\"\"\n",
    "    \n",
    "# para indicar que es una clase hija, colocamos entre parentesis la clase madre    \n",
    "class Adorno(Producto):\n",
    "    pass\n",
    "\n",
    "a = Adorno(2034,\"vaso adornado\",15,\"vaso de porcelana adornado con arboles\")\n",
    "\n",
    "print(a)\n"
   ]
  },
  {
   "cell_type": "code",
   "execution_count": 14,
   "metadata": {},
   "outputs": [
    {
     "name": "stdout",
     "output_type": "stream",
     "text": [
      "REFERENCIA\t2035\n",
      "NOMBRE\t\t botella de aceite de oliva extra\n",
      "PVP\t\t5\n",
      "DESCRIPCION\t250 ml\n",
      "PRODUCTOR\tla aceitera\n",
      "DISTRIBUIDO\tdistribuciones SA\n",
      "        \n"
     ]
    }
   ],
   "source": [
    "class Alimento(Producto):\n",
    "    productor = \"\"\n",
    "    distribuidor = \"\"\n",
    "    def __str__(self):\n",
    "        return f\"\"\"\\\n",
    "REFERENCIA\\t{self.referencia}\n",
    "NOMBRE\\t\\t{self.nombre}\n",
    "PVP\\t\\t{self.pvp}\n",
    "DESCRIPCION\\t{self.descripcion}\n",
    "PRODUCTOR\\t{self.productor}\n",
    "DISTRIBUIDO\\t{self.distribuidor}\n",
    "        \"\"\"\n",
    "    \n",
    "al = Alimento(2035,\" botella de aceite de oliva extra\",5,\"250 ml\")\n",
    "al.productor = \"la aceitera\"\n",
    "al.distribuidor=\"distribuciones SA\"\n",
    "print(al)"
   ]
  },
  {
   "cell_type": "code",
   "execution_count": 13,
   "metadata": {},
   "outputs": [
    {
     "name": "stdout",
     "output_type": "stream",
     "text": [
      "REFERENCIA\t2036\n",
      "NOMBRE\t\tcocina mediterranea\n",
      "PVP\t\t9\n",
      "DESCRIPCION\t recetas sanas y buenas\n",
      "iSBN\t\t0-12345678-9\n",
      "AUTOR\t\tDoña Juana\n",
      "        \n"
     ]
    }
   ],
   "source": [
    "class Libro(Producto):\n",
    "    isbn = \"\"\n",
    "    autor = \"\"\n",
    "    def __str__(self):\n",
    "        return f\"\"\"\\\n",
    "REFERENCIA\\t{self.referencia}\n",
    "NOMBRE\\t\\t{self.nombre}\n",
    "PVP\\t\\t{self.pvp}\n",
    "DESCRIPCION\\t{self.descripcion}\n",
    "iSBN\\t\\t{self.isbn}\n",
    "AUTOR\\t\\t{self.autor}\n",
    "        \"\"\"\n",
    "li = Libro(2036,\"cocina mediterranea\",9,\" recetas sanas y buenas\")\n",
    "\n",
    "li.isbn = \"0-12345678-9\"\n",
    "li.autor = \"Doña Juana\"\n",
    "print(li)"
   ]
  },
  {
   "cell_type": "code",
   "execution_count": null,
   "metadata": {},
   "outputs": [],
   "source": []
  }
 ],
 "metadata": {
  "kernelspec": {
   "display_name": "Python 3",
   "language": "python",
   "name": "python3"
  },
  "language_info": {
   "codemirror_mode": {
    "name": "ipython",
    "version": 3
   },
   "file_extension": ".py",
   "mimetype": "text/x-python",
   "name": "python",
   "nbconvert_exporter": "python",
   "pygments_lexer": "ipython3",
   "version": "3.8.5"
  }
 },
 "nbformat": 4,
 "nbformat_minor": 1
}
