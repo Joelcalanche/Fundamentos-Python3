{
 "cells": [
  {
   "cell_type": "code",
   "execution_count": 2,
   "metadata": {},
   "outputs": [
    {
     "name": "stdout",
     "output_type": "stream",
     "text": [
      "soy de clase A\n"
     ]
    }
   ],
   "source": [
    "# la herencia multiple ha referencia a que una subclase herede de varias subclases a la  vez\n",
    "\n",
    "class A:\n",
    "    def __init__(self):\n",
    "        print(\"soy de clase A\")\n",
    "    def a(self):\n",
    "        print(\"este metodo lo heredo de A\")\n",
    "class B:\n",
    "    def __init(self):\n",
    "        print(\"soy de clase B\")\n",
    "    def b(self):\n",
    "        print(\"este metodo lo heredo de B\")\n",
    "        \n",
    "class C(A,B):\n",
    "    def c(self):\n",
    "        print(\"este metodo es de C\")\n",
    "\n",
    "\n",
    "c = C()\n",
    "# hereda el metodo init del a y no del b, porque la a esta a la izquierda, tiene prioridad\n"
   ]
  },
  {
   "cell_type": "code",
   "execution_count": 3,
   "metadata": {},
   "outputs": [
    {
     "name": "stdout",
     "output_type": "stream",
     "text": [
      "este metodo lo heredo de A\n",
      "este metodo lo heredo de B\n",
      "este metodo es de C\n"
     ]
    }
   ],
   "source": [
    "c.a()\n",
    "c.b()\n",
    "c.c()"
   ]
  },
  {
   "cell_type": "code",
   "execution_count": null,
   "metadata": {},
   "outputs": [],
   "source": []
  }
 ],
 "metadata": {
  "kernelspec": {
   "display_name": "Python 3",
   "language": "python",
   "name": "python3"
  },
  "language_info": {
   "codemirror_mode": {
    "name": "ipython",
    "version": 3
   },
   "file_extension": ".py",
   "mimetype": "text/x-python",
   "name": "python",
   "nbconvert_exporter": "python",
   "pygments_lexer": "ipython3",
   "version": "3.8.5"
  }
 },
 "nbformat": 4,
 "nbformat_minor": 1
}
