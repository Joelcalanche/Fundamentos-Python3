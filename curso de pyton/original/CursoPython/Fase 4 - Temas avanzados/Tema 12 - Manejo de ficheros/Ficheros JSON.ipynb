{
 "cells": [
  {
   "cell_type": "markdown",
   "id": "previous-sociology",
   "metadata": {},
   "source": [
    "# Ficheros JSON\n",
    "Notacion de objeto de JavaScript"
   ]
  },
  {
   "cell_type": "code",
   "execution_count": 6,
   "id": "similar-arrest",
   "metadata": {},
   "outputs": [],
   "source": [
    "# usamos lista de tuplas\n",
    "import json\n",
    "contactos = [\n",
    "    (\"Manuel\", \"Desarrollador Web\", \"manuel@ejemplo.com\"),\n",
    "    (\"Lorena\", \"Gestora de proyectos\", \"lorena@ejemplo.com\"),\n",
    "    (\"Javier\", \"Analista de datos\", \"javier@ejemplo.com\"),\n",
    "    (\"Marta\", \"Experta en Python\", \"marta@ejemplo.com\")\n",
    "    \n",
    "]\n",
    "datos = []\n",
    "# transformacion de formato de datos de lista de tuplas a lista de diccionarios\n",
    "\n",
    "for nombre, empleo, email in contactos:\n",
    "    datos.append({\"nombre\":nombre, \"empleo\":empleo, \"email\":email})"
   ]
  },
  {
   "cell_type": "code",
   "execution_count": 7,
   "id": "israeli-covering",
   "metadata": {},
   "outputs": [
    {
     "data": {
      "text/plain": [
       "[{'nombre': 'Manuel',\n",
       "  'empleo': 'Desarrollador Web',\n",
       "  'email': 'manuel@ejemplo.com'},\n",
       " {'nombre': 'Lorena',\n",
       "  'empleo': 'Gestora de proyectos',\n",
       "  'email': 'lorena@ejemplo.com'},\n",
       " {'nombre': 'Javier',\n",
       "  'empleo': 'Analista de datos',\n",
       "  'email': 'javier@ejemplo.com'},\n",
       " {'nombre': 'Marta',\n",
       "  'empleo': 'Experta en Python',\n",
       "  'email': 'marta@ejemplo.com'}]"
      ]
     },
     "execution_count": 7,
     "metadata": {},
     "output_type": "execute_result"
    }
   ],
   "source": [
    "datos"
   ]
  },
  {
   "cell_type": "code",
   "execution_count": 8,
   "id": "racial-church",
   "metadata": {},
   "outputs": [],
   "source": [
    "with open(\"contactos.json\",\"w\") as jsonfile:\n",
    "    json.dump(datos, jsonfile )"
   ]
  },
  {
   "cell_type": "code",
   "execution_count": 9,
   "id": "close-bookmark",
   "metadata": {},
   "outputs": [],
   "source": [
    "datos =None"
   ]
  },
  {
   "cell_type": "code",
   "execution_count": 11,
   "id": "mounted-platform",
   "metadata": {},
   "outputs": [
    {
     "name": "stdout",
     "output_type": "stream",
     "text": [
      "Manuel Desarrollador Web manuel@ejemplo.com\n",
      "Lorena Gestora de proyectos lorena@ejemplo.com\n",
      "Javier Analista de datos javier@ejemplo.com\n",
      "Marta Experta en Python marta@ejemplo.com\n"
     ]
    }
   ],
   "source": [
    "with open(\"contactos.json\") as jsonfile:\n",
    "    datos = json.load(jsonfile)\n",
    "    for contacto in datos:\n",
    "        print(contacto[\"nombre\"], contacto[\"empleo\"], contacto[\"email\"])\n",
    "# python lo trabaja como si fuera un diccionario        "
   ]
  },
  {
   "cell_type": "markdown",
   "id": "intended-format",
   "metadata": {},
   "source": [
    "# otra forma"
   ]
  },
  {
   "cell_type": "code",
   "execution_count": null,
   "id": "furnished-spare",
   "metadata": {},
   "outputs": [],
   "source": []
  }
 ],
 "metadata": {
  "kernelspec": {
   "display_name": "Python 3",
   "language": "python",
   "name": "python3"
  },
  "language_info": {
   "codemirror_mode": {
    "name": "ipython",
    "version": 3
   },
   "file_extension": ".py",
   "mimetype": "text/x-python",
   "name": "python",
   "nbconvert_exporter": "python",
   "pygments_lexer": "ipython3",
   "version": "3.8.5"
  }
 },
 "nbformat": 4,
 "nbformat_minor": 5
}
