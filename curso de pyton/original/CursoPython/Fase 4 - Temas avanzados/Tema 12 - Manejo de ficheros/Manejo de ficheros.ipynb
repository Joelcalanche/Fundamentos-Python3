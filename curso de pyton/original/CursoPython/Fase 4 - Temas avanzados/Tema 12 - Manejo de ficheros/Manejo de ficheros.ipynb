{
 "cells": [
  {
   "cell_type": "markdown",
   "id": "other-anime",
   "metadata": {},
   "source": [
    "# Ficheros CSV\n",
    "valores separados por comas(comma,separated values)\n"
   ]
  },
  {
   "cell_type": "code",
   "execution_count": 1,
   "id": "curious-final",
   "metadata": {},
   "outputs": [],
   "source": [
    "import csv"
   ]
  },
  {
   "cell_type": "markdown",
   "id": "strong-polls",
   "metadata": {},
   "source": [
    "### Escritura de informacion"
   ]
  },
  {
   "cell_type": "code",
   "execution_count": 2,
   "id": "assigned-lottery",
   "metadata": {},
   "outputs": [],
   "source": [
    "# usamos lista de tuplas\n",
    "contactos = [\n",
    "    (\"Manuel\", \"Desarrollador Web\", \"manuel@ejemplo.com\"),\n",
    "    (\"Lorena\", \"Gestora de proyectos\", \"lorena@ejemplo.com\"),\n",
    "    (\"Javier\", \"Analista de datos\", \"javier@ejemplo.com\"),\n",
    "    (\"Marta\", \"Experta en Python\", \"marta@ejemplo.com\")\n",
    "    \n",
    "]\n"
   ]
  },
  {
   "cell_type": "code",
   "execution_count": 4,
   "id": "pursuant-attitude",
   "metadata": {},
   "outputs": [],
   "source": [
    "# la funcion with nos permite abrir un fichero dentro de un bloque de codigo\n",
    "# no hace falta que lo recemos manualmente\n",
    "# newline, es un atributo que indica el caracter de salto de linea que queremos\n",
    "with open(\"contactos.csv\",\"w\", newline=\"\\n\") as csvfile:\n",
    "    # le pasamos el fichero donde queremos que escriba y el delimitador\n",
    "    writer = csv.writer(csvfile, delimiter = \",\")\n",
    "    for contacto in contactos:\n",
    "        writer.writerow(contacto)"
   ]
  },
  {
   "cell_type": "markdown",
   "id": "failing-overview",
   "metadata": {},
   "source": [
    "## Lectura de informacion"
   ]
  },
  {
   "cell_type": "code",
   "execution_count": 10,
   "id": "broke-funeral",
   "metadata": {},
   "outputs": [
    {
     "name": "stdout",
     "output_type": "stream",
     "text": [
      "['Manuel', 'Desarrollador Web', 'manuel@ejemplo.com']\n",
      "['Lorena', 'Gestora de proyectos', 'lorena@ejemplo.com']\n",
      "['Javier', 'Analista de datos', 'javier@ejemplo.com']\n",
      "['Marta', 'Experta en Python', 'marta@ejemplo.com']\n"
     ]
    }
   ],
   "source": [
    "with open(\"contactos.csv\", newline=\"\\n\") as csvfile:\n",
    "    # en el reader recuperamos la informacion\n",
    "    reader = csv.reader(csvfile, delimiter = \",\")\n",
    "    for contacto in reader:\n",
    "        print(contacto)\n",
    "# se recuperan los registros en forma de lista        "
   ]
  },
  {
   "cell_type": "code",
   "execution_count": 11,
   "id": "intellectual-lightning",
   "metadata": {},
   "outputs": [
    {
     "name": "stdout",
     "output_type": "stream",
     "text": [
      "Manuel Desarrollador Web manuel@ejemplo.com\n",
      "Lorena Gestora de proyectos lorena@ejemplo.com\n",
      "Javier Analista de datos javier@ejemplo.com\n",
      "Marta Experta en Python marta@ejemplo.com\n"
     ]
    }
   ],
   "source": [
    "with open(\"contactos.csv\", newline=\"\\n\") as csvfile:\n",
    "    # en el reader recuperamos la informacion\n",
    "    reader = csv.reader(csvfile, delimiter = \",\")\n",
    "    for nombre, empleo, email in reader:\n",
    "        print(nombre, empleo, email)\n",
    "# se recuperan los datos por separado"
   ]
  },
  {
   "cell_type": "code",
   "execution_count": 16,
   "id": "prerequisite-russell",
   "metadata": {},
   "outputs": [],
   "source": [
    "# Utilizando diccionarios, usamos Dictwriter\n",
    "\n",
    "\n",
    "\n",
    "with open(\"contactos.csv\",\"w\", newline=\"\\n\") as csvfile:\n",
    "    \n",
    "    # lista con los  campos/columnas \n",
    "    campos = [\"nombre\", \"empleo\",\"email\"]\n",
    "    # le pasamos el fichero donde queremos que escriba y el delimitador\n",
    "    writer = csv.DictWriter(csvfile, fieldnames= campos)\n",
    "    # Debemos tambien decirle que escriba las cabeceras/header\n",
    "    writer.writeheader()\n",
    "    for nombre, empleo, email in contactos:\n",
    "        writer.writerow({\n",
    "            \"nombre\":nombre , \"empleo\": empleo , \"email\": email\n",
    "        })\n",
    "# la diferencia de usar diccionarios en lugar de listas es que, los\n",
    "# diccionarios pueden guardar el nombre de las columnas\n"
   ]
  },
  {
   "cell_type": "code",
   "execution_count": 18,
   "id": "numeric-asbestos",
   "metadata": {},
   "outputs": [
    {
     "name": "stdout",
     "output_type": "stream",
     "text": [
      "Manuel Desarrollador Web manuel@ejemplo.com\n",
      "Lorena Gestora de proyectos lorena@ejemplo.com\n",
      "Javier Analista de datos javier@ejemplo.com\n",
      "Marta Experta en Python marta@ejemplo.com\n"
     ]
    }
   ],
   "source": [
    "with open(\"contactos.csv\", newline=\"\\n\") as csvfile:\n",
    "    reader = csv.DictReader(csvfile)\n",
    "    for contacto in reader:\n",
    "        print(contacto[\"nombre\"], contacto[\"empleo\"], contacto[\"email\"])\n",
    "    "
   ]
  },
  {
   "cell_type": "code",
   "execution_count": null,
   "id": "surprising-advancement",
   "metadata": {},
   "outputs": [],
   "source": []
  }
 ],
 "metadata": {
  "kernelspec": {
   "display_name": "Python 3",
   "language": "python",
   "name": "python3"
  },
  "language_info": {
   "codemirror_mode": {
    "name": "ipython",
    "version": 3
   },
   "file_extension": ".py",
   "mimetype": "text/x-python",
   "name": "python",
   "nbconvert_exporter": "python",
   "pygments_lexer": "ipython3",
   "version": "3.8.5"
  }
 },
 "nbformat": 4,
 "nbformat_minor": 5
}
